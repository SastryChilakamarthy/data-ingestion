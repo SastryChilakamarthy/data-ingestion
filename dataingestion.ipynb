{
 "cells": [
  {
   "cell_type": "code",
   "execution_count": 19,
   "id": "7da52392-4c84-4752-a097-136dd9f36d79",
   "metadata": {},
   "outputs": [],
   "source": [
    "import pandas as pd\n",
    "import psycopg2\n",
    "from psycopg2 import sql\n"
   ]
  },
  {
   "cell_type": "code",
   "execution_count": 22,
   "id": "ac13b5e8-664f-4da8-82be-f66d9c430a7a",
   "metadata": {},
   "outputs": [],
   "source": [
    "def create_table_and_ingest_data(db_params, table_name, excel_file_path):\n",
    "    connection = None\n",
    "    cursor = None\n",
    "\n",
    "    try:\n",
    "        # Read the Excel file into a DataFrame\n",
    "        df = pd.read_excel(excel_file_path)\n",
    "        print(\"Excel file read successfully.\")\n",
    "        print(df.head())  # Display the first few rows of the DataFrame for verification\n",
    "\n",
    "        # Convert boolean columns to integers\n",
    "        bool_cols = df.select_dtypes(include='bool').columns\n",
    "        df[bool_cols] = df[bool_cols].astype(int)\n",
    "\n",
    "        # Establish a connection to the database\n",
    "        connection = psycopg2.connect(**db_params)\n",
    "        cursor = connection.cursor()\n",
    "\n",
    "        # Drop the table if it exists\n",
    "        drop_table_query = sql.SQL(\"DROP TABLE IF EXISTS {table}\").format(\n",
    "            table=sql.Identifier(table_name)\n",
    "        )\n",
    "        cursor.execute(drop_table_query)\n",
    "        connection.commit()\n",
    "\n",
    "        # Dynamically create table based on DataFrame columns\n",
    "        create_table_query = sql.SQL(\n",
    "            \"CREATE TABLE {table} ({fields})\"\n",
    "        ).format(\n",
    "            table=sql.Identifier(table_name),\n",
    "            fields=sql.SQL(', ').join(\n",
    "                sql.SQL(\"{} {}\").format(\n",
    "                    sql.Identifier(col),\n",
    "                    sql.SQL(\"TEXT\") if df[col].dtype == 'object' else\n",
    "                    sql.SQL(\"INTEGER\") if df[col].dtype in ['int64', 'bool'] else\n",
    "                    sql.SQL(\"FLOAT\") if df[col].dtype == 'float64' else\n",
    "                    sql.SQL(\"TIMESTAMP\") if df[col].dtype == 'datetime64[ns]' else\n",
    "                    sql.SQL(\"TEXT\")\n",
    "                ) for col in df.columns\n",
    "            )\n",
    "        )\n",
    "        cursor.execute(create_table_query)\n",
    "        connection.commit()\n",
    "\n",
    "        # Build the insert query dynamically based on the DataFrame columns\n",
    "        insert_query = sql.SQL('INSERT INTO {table} ({fields}) VALUES ({values})').format(\n",
    "            table=sql.Identifier(table_name),\n",
    "            fields=sql.SQL(', ').join(map(sql.Identifier, df.columns)),\n",
    "            values=sql.SQL(', ').join(sql.Placeholder() * len(df.columns))\n",
    "        )\n",
    "        \n",
    "        # Execute insert queries\n",
    "        for row in df.itertuples(index=False, name=None):\n",
    "            cursor.execute(insert_query, row)\n",
    "        \n",
    "        # Commit the transaction\n",
    "        connection.commit()\n",
    "\n",
    "        print(\"Data ingested successfully.\")\n",
    "    except FileNotFoundError as e:\n",
    "        print(f\"Error: {e}\")\n",
    "    except Exception as e:\n",
    "        print(f\"An unexpected error occurred: {e}\")\n",
    "    finally:\n",
    "        # Close the cursor and connection if they were created\n",
    "        if cursor is not None:\n",
    "            cursor.close()\n",
    "        if connection is not None:\n",
    "            connection.close()"
   ]
  },
  {
   "cell_type": "code",
   "execution_count": 23,
   "id": "ae013438-dc3b-443f-916d-c065f832b94c",
   "metadata": {},
   "outputs": [
    {
     "name": "stdout",
     "output_type": "stream",
     "text": [
      "Excel file read successfully.\n",
      "   id  age  height  gender initial              joined\n",
      "0   1   25     5.9    True       A 2023-01-15 10:23:00\n",
      "1   2   30     6.1   False       B 2023-02-20 14:45:00\n",
      "2   3   22     5.5    True       C 2023-03-10 09:12:00\n",
      "3   4   35     6.0    True       D 2023-04-25 16:30:00\n",
      "4   5   28     5.8   False       E 2023-05-05 11:15:00\n",
      "Data ingested successfully.\n"
     ]
    }
   ],
   "source": [
    "db_params = {\n",
    "    'dbname': 'data',        # Replace with your actual database name\n",
    "    'user': 'postgres',        # Replace with your actual username\n",
    "    'password': '1611',    # Replace with your actual password\n",
    "    'host': 'localhost',            # Adjust if your database server is not local\n",
    "    'port': '5432'                  # Default PostgreSQL port\n",
    "}\n",
    "\n",
    "# Define the table name and the path to the Excel file\n",
    "table_name = 'details'\n",
    "excel_file_path = r'C:\\Users\\sastr\\OneDrive\\Desktop\\Book.xlsx'\n",
    "\n",
    "# Call the function to create the table and ingest data\n",
    "create_table_and_ingest_data(db_params, table_name, excel_file_path)"
   ]
  },
  {
   "cell_type": "code",
   "execution_count": null,
   "id": "bddaf2a3-5dfa-4409-9397-442c76f423f6",
   "metadata": {},
   "outputs": [],
   "source": []
  }
 ],
 "metadata": {
  "kernelspec": {
   "display_name": "Python 3 (ipykernel)",
   "language": "python",
   "name": "python3"
  },
  "language_info": {
   "codemirror_mode": {
    "name": "ipython",
    "version": 3
   },
   "file_extension": ".py",
   "mimetype": "text/x-python",
   "name": "python",
   "nbconvert_exporter": "python",
   "pygments_lexer": "ipython3",
   "version": "3.11.7"
  }
 },
 "nbformat": 4,
 "nbformat_minor": 5
}
